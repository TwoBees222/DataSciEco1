{
 "cells": [
  {
   "cell_type": "markdown",
   "id": "10b854a7-c9d0-441b-a97b-f5a36e30aae7",
   "metadata": {},
   "source": [
    "# Data Science Tools and Ecosystem"
   ]
  },
  {
   "cell_type": "markdown",
   "id": "85277a28-8c63-4e9b-be4f-5bcce2866073",
   "metadata": {},
   "source": [
    "# Data Science Tools and Ecosystem"
   ]
  },
  {
   "cell_type": "markdown",
   "id": "432b468c-fc88-4a5d-8e61-86f615f7782e",
   "metadata": {},
   "source": [
    "In this notebook, Data Science Tools and Ecosystem are summarized"
   ]
  },
  {
   "cell_type": "markdown",
   "id": "f5f7f564-abc2-40c9-849d-0384e70347fa",
   "metadata": {},
   "source": [
    "In this notebook, Data Science Tools and Ecosystem are summarized"
   ]
  },
  {
   "cell_type": "markdown",
   "id": "890d2949-0d69-486c-8848-606717f884bd",
   "metadata": {},
   "source": [
    "Some of the popular languages that Data Scientists use are:\n"
   ]
  },
  {
   "cell_type": "markdown",
   "id": "c311986b-c1eb-4b0f-953d-84e1fba4f702",
   "metadata": {},
   "source": [
    "Some of the popular languages that Data Scientists use are:\r\n"
   ]
  },
  {
   "cell_type": "markdown",
   "id": "60683773-a20c-43d5-831d-d7ab49e4e62d",
   "metadata": {},
   "source": [
    "**Some of the commonly used libraries used by Data Scientists include:**\r\n",
    "\r\n",
    "1. NumPy\r\n",
    "2. Pandas\r\n",
    "3. SciPy"
   ]
  },
  {
   "cell_type": "markdown",
   "id": "c302ffc4-3325-48b9-b7d5-4925ff9c9332",
   "metadata": {},
   "source": [
    "**Some of the commonly used libraries used by Data Scientists include:**\r\n",
    "\r\n",
    "1. NumPy\r\n",
    "2. Pandas\r\n",
    "3. SciPy"
   ]
  },
  {
   "cell_type": "markdown",
   "id": "39fd6c27-a0ea-435e-89d0-4348bdb64a86",
   "metadata": {},
   "source": [
    "|Data Science Tools|\r\n",
    "|------------------|\r\n",
    "|Jupyter Notebook|\r\n",
    "|RStudio|\r\n",
    "|GitHub|"
   ]
  },
  {
   "cell_type": "markdown",
   "id": "3bb51e40-38d0-4a1f-b83b-76ae56a6adc9",
   "metadata": {},
   "source": [
    "|Data Science Tools|\r\n",
    "|------------------|\r\n",
    "|Jupyter Notebook|\r\n",
    "|RStudio|\r\n",
    "|GitHub|"
   ]
  },
  {
   "cell_type": "markdown",
   "id": "8aa4f948-63b5-48ac-aa24-abd50c2ea3d8",
   "metadata": {},
   "source": [
    "### Below are a few examples of evaluating arithmetic expressions in Python"
   ]
  },
  {
   "cell_type": "markdown",
   "id": "114bd521-926c-49a3-a691-8fa14b3bba41",
   "metadata": {},
   "source": [
    "### Below are a few examples of evaluating arithmetic expressions in Python"
   ]
  },
  {
   "cell_type": "code",
   "execution_count": null,
   "id": "94d4c91e-97d5-4e28-9da4-720060174b8e",
   "metadata": {},
   "outputs": [],
   "source": [
    "This is a simple arithetic expression to multiply then add integers"
   ]
  },
  {
   "cell_type": "markdown",
   "id": "b262695b-dfc2-4cc3-9344-afdf69c0db5d",
   "metadata": {
    "panel-layout": {
     "height": 51.140625,
     "visible": true,
     "width": 100
    }
   },
   "source": [
    "This is a simple arithetic expression to multiply then add integers"
   ]
  },
  {
   "cell_type": "code",
   "execution_count": 5,
   "id": "dc6126d7-190e-4317-ab1e-b9d2d8c8c737",
   "metadata": {
    "panel-layout": {
     "height": 0,
     "visible": true,
     "width": 100
    }
   },
   "outputs": [
    {
     "name": "stdout",
     "output_type": "stream",
     "text": [
      "17\n"
     ]
    }
   ],
   "source": [
    "a=3\n",
    "b=4\n",
    "c=5\n",
    "d=(a*b)+c\n",
    "print(d)"
   ]
  },
  {
   "cell_type": "markdown",
   "id": "1a33af1b-4f25-4566-91d7-06ff2bfafb89",
   "metadata": {},
   "source": [
    "This will convert 200 minutes to hours by dividing by 60"
   ]
  },
  {
   "cell_type": "markdown",
   "id": "c50b9ae6-c9e0-409a-9f0d-4c2798f5592b",
   "metadata": {},
   "source": [
    "This will convert 200 minutes to hours by dividing by 60"
   ]
  },
  {
   "cell_type": "code",
   "execution_count": 4,
   "id": "447532aa-2404-47ab-bca4-7b61f90ffc38",
   "metadata": {},
   "outputs": [
    {
     "name": "stdout",
     "output_type": "stream",
     "text": [
      "3.3333333333333335\n"
     ]
    }
   ],
   "source": [
    "a=200\n",
    "b=60\n",
    "c=a/b\n",
    "print(c)\n"
   ]
  },
  {
   "cell_type": "markdown",
   "id": "3e8e35ee-f6f1-467e-abd4-1cb89397d7c7",
   "metadata": {},
   "source": [
    "**Objectives:**\n",
    "\n",
    "-  Python\n",
    "-  R\n",
    "-  SQL\n",
    "-  C++"
   ]
  },
  {
   "cell_type": "markdown",
   "id": "2fcd61af-3fab-4474-8fe3-0711f7064824",
   "metadata": {},
   "source": [
    "**Objectives:**\n",
    "\n",
    "-  Python\n",
    "-  R\n",
    "-  SQL\n",
    "-  C++"
   ]
  },
  {
   "cell_type": "markdown",
   "id": "6f23ffec-ffd8-4a2e-b9b8-5138b9b85f8a",
   "metadata": {},
   "source": [
    "## Author\n",
    "\n",
    "Matthew Opitz"
   ]
  },
  {
   "cell_type": "markdown",
   "id": "43f5beda-46e8-4805-b3ef-90856f94e70f",
   "metadata": {},
   "source": [
    "## Author\n",
    "\n",
    "Matthew Opitz"
   ]
  },
  {
   "cell_type": "code",
   "execution_count": null,
   "id": "3fd4771a-a5c5-4b87-b9e4-d69a0cb32022",
   "metadata": {},
   "outputs": [],
   "source": []
  }
 ],
 "metadata": {
  "kernelspec": {
   "display_name": "Python 3 (ipykernel)",
   "language": "python",
   "name": "python3"
  },
  "language_info": {
   "codemirror_mode": {
    "name": "ipython",
    "version": 3
   },
   "file_extension": ".py",
   "mimetype": "text/x-python",
   "name": "python",
   "nbconvert_exporter": "python",
   "pygments_lexer": "ipython3",
   "version": "3.12.4"
  },
  "panel-cell-order": [
   "b262695b-dfc2-4cc3-9344-afdf69c0db5d",
   "dc6126d7-190e-4317-ab1e-b9d2d8c8c737"
  ]
 },
 "nbformat": 4,
 "nbformat_minor": 5
}
